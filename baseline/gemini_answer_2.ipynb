{
 "cells": [
  {
   "cell_type": "code",
   "execution_count": null,
   "metadata": {
    "id": "DNYggRDlhT79"
   },
   "outputs": [],
   "source": [
    "!pip install -q google-genai tqdm\n",
    "\n",
    "# %%\n",
    "from google import genai\n",
    "from google.genai import types\n",
    "from pathlib import Path\n",
    "import os, json, time, re, shutil, tqdm\n",
    "from typing import List, Dict\n"
   ]
  },
  {
   "cell_type": "code",
   "execution_count": null,
   "metadata": {
    "colab": {
     "base_uri": "https://localhost:8080/"
    },
    "id": "SZR37UTqhXFH",
    "outputId": "8211a71f-7a02-44f5-9d55-5d2156f5ae03"
   },
   "outputs": [
    {
     "name": "stdout",
     "output_type": "stream",
     "text": [
      "✅ Gemini client ready\n",
      "Mounted at /content/drive\n",
      "📄 Evidence copied\n"
     ]
    }
   ],
   "source": [
    "# ## 1  Authenticate & Drive\n",
    "\n",
    "# %%\n",
    "os.environ['GEMINI_API_KEY'] = ''\n",
    "client = genai.Client()\n",
    "print('Gemini client ready')\n",
    "\n",
    "from google.colab import drive\n",
    "drive.mount('/content/drive', force_remount=True)\n",
    "\n",
    "drive_root = Path('/content/drive/MyDrive/KGP_evidence')\n",
    "work_dir   = Path('/content/llm_answer_generation')\n",
    "work_dir.mkdir(parents=True, exist_ok=True)\n",
    "for filename in ['hotpotqa_evidence_qwen.json', '2wiki_evidence_qwen.json']:\n",
    "    shutil.copy2(drive_root/filename, work_dir/filename)\n",
    "print('📄 Evidence copied')"
   ]
  },
  {
   "cell_type": "code",
   "execution_count": null,
   "metadata": {
    "id": "aclK18aChZV_"
   },
   "outputs": [],
   "source": [
    "# ## 2  Helpers\n",
    "\n",
    "# %%\n",
    "\n",
    "def load_json(path: Path) -> List[Dict]:\n",
    "    with open(path, 'r') as f:\n",
    "        return json.load(f)\n",
    "\n",
    "\n",
    "def save_json(obj, path: Path):\n",
    "    path.parent.mkdir(parents=True, exist_ok=True)\n",
    "    with open(path, 'w') as f:\n",
    "        json.dump(obj, f, indent=4, ensure_ascii=False)\n",
    "\n",
    "\n",
    "# — safe clean\n",
    "def _clean_answer(text):\n",
    "    if not isinstance(text, str):\n",
    "        return \"\"\n",
    "    text = re.sub(r\"<think[^>]*?>.*?</think>\", \" \", text, flags=re.S)\n",
    "    return re.sub(r\"\\s+\", \" \", text).strip()\n",
    "\n",
    "\n",
    "def split_thoughts_and_answer(parts):\n",
    "    thoughts, answer = [], []\n",
    "    for p in parts:\n",
    "        txt = getattr(p, 'text', '') or ''\n",
    "        if getattr(p, 'thought', False):\n",
    "            thoughts.append(txt)\n",
    "        else:\n",
    "            answer.append(txt)\n",
    "    return \"\\n\".join(thoughts).strip(), \" \".join(answer).strip()\n"
   ]
  },
  {
   "cell_type": "code",
   "execution_count": null,
   "metadata": {
    "id": "cN6g8_BuhcFf"
   },
   "outputs": [],
   "source": [
    "# ## 3  Generation pipeline (robust)\n",
    "\n",
    "# %%\n",
    "\n",
    "def generate_answers(\n",
    "    evidence_file: Path,\n",
    "    save_file: Path,\n",
    "    *,\n",
    "    max_output_tokens: int = 128,\n",
    "    temperature: float = 0.6,\n",
    "    top_p: float = 0.95,\n",
    "    thinking_budget: int = -1,\n",
    "    pause_secs: float = 5.0,\n",
    "):\n",
    "    data = load_json(evidence_file)\n",
    "    responses = []\n",
    "\n",
    "    prompt_template = (\n",
    "        \"Given the question and its associated contexts below, please generate a concise, \"\n",
    "        \"precise answer in English. The answer must strictly adhere to the following guidelines:\\n\"\n",
    "        \"- The answer should be directly relevant to the question.\\n\"\n",
    "        \"- Provide the answer in a clear, straightforward format.\\n\"\n",
    "        \"- Limit your answer to no more than 10 words, focusing on the essential information requested.\\n\"\n",
    "        \"- If the provided contexts do not contain enough information but you know the answer, still provide it; \"\n",
    "        \"otherwise respond with \\\"Information not available\\\".\\n\"\n",
    "        \"- Do not include any additional tokens, explanations, or information beyond the direct answer.\\n\\n\"\n",
    "        \"QUESTION: {question}\\n\"\n",
    "        \"CONTEXT:\\n{context}\\n\"\n",
    "        \"ANSWER:\"\n",
    "    )\n",
    "\n",
    "    none_template = (\n",
    "        \"Given the following question, create a final answer in English to the question.\\n\"\n",
    "        \"QUESTION: {question}\\n\"\n",
    "        \"ANSWER:\"\n",
    "    )\n",
    "\n",
    "    for rec in tqdm.tqdm(data, total=len(data)):\n",
    "        ctx_list = rec['evidence']\n",
    "        user_prompt = (prompt_template if ctx_list else none_template).format(\n",
    "            question=rec['question'],\n",
    "            context=\"\\n\".join(f\"{i+1}: {c}\" for i, c in enumerate(ctx_list)) if ctx_list else \"\"\n",
    "        )\n",
    "\n",
    "        try:\n",
    "            response = client.models.generate_content(\n",
    "                model='gemini-2.5-flash',\n",
    "                contents=user_prompt,\n",
    "                config=types.GenerateContentConfig(\n",
    "                    temperature=temperature,\n",
    "                    top_p=top_p,\n",
    "                    max_output_tokens=max_output_tokens,\n",
    "                    thinking_config=types.ThinkingConfig(\n",
    "                        thinking_budget=thinking_budget,\n",
    "                        include_thoughts=True\n",
    "                    ),\n",
    "                ),\n",
    "            )\n",
    "\n",
    "            cand_container = response.candidates or []\n",
    "            cand = cand_container[0] if cand_container else None\n",
    "            parts = cand.content.parts if cand else []\n",
    "            thoughts, answer_text = split_thoughts_and_answer(parts)\n",
    "            short_answer = _clean_answer(answer_text) or \"Information not available\"\n",
    "\n",
    "        except Exception as e:\n",
    "            thoughts = \"\"\n",
    "            answer_text = f\"ERROR: {e}\"\n",
    "            short_answer = \"Information not available\"\n",
    "\n",
    "        responses.append({\n",
    "            'type':     rec['type'],\n",
    "            'question': rec['question'],\n",
    "            'gt':       rec['answer'],\n",
    "            'thoughts': thoughts,\n",
    "            'answer':   answer_text,\n",
    "            'response': short_answer,\n",
    "        })\n",
    "\n",
    "        save_json(responses, save_file)\n",
    "        time.sleep(pause_secs)\n",
    "\n",
    "    print(f\"Finished – saved to {save_file}\")\n",
    "    return responses"
   ]
  },
  {
   "cell_type": "code",
   "execution_count": null,
   "metadata": {
    "colab": {
     "base_uri": "https://localhost:8080/"
    },
    "id": "WpoPCiYAhhEv",
    "outputId": "77bb2c4a-9071-478d-97a7-82aa0cda34f3"
   },
   "outputs": [
    {
     "name": "stderr",
     "output_type": "stream",
     "text": [
      "100%|██████████| 100/100 [14:58<00:00,  8.99s/it]"
     ]
    },
    {
     "name": "stdout",
     "output_type": "stream",
     "text": [
      "Finished – saved to /content/drive/MyDrive/KGP_evidence/2wiki_answers_gemini.json\n"
     ]
    },
    {
     "name": "stderr",
     "output_type": "stream",
     "text": [
      "\n"
     ]
    }
   ],
   "source": [
    "# %%\n",
    "wiki_out = drive_root / '2wiki_answers_gemini.json'\n",
    "_ = generate_answers(\n",
    "        work_dir / '2wiki_evidence_qwen.json',\n",
    "        wiki_out,\n",
    "        max_output_tokens=1024,\n",
    "        temperature=0.6,\n",
    "        top_p=0.95,\n",
    "        thinking_budget=-1,\n",
    "        pause_secs=6.0,\n",
    ")\n"
   ]
  }
 ],
 "metadata": {
  "colab": {
   "provenance": []
  },
  "kernelspec": {
   "display_name": "Python 3 (ipykernel)",
   "language": "python",
   "name": "python3"
  },
  "language_info": {
   "codemirror_mode": {
    "name": "ipython",
    "version": 3
   },
   "file_extension": ".py",
   "mimetype": "text/x-python",
   "name": "python",
   "nbconvert_exporter": "python",
   "pygments_lexer": "ipython3",
   "version": "3.11.5"
  }
 },
 "nbformat": 4,
 "nbformat_minor": 4
}
