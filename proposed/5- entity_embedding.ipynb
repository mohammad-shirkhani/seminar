{
 "cells": [
  {
   "cell_type": "code",
   "execution_count": null,
   "metadata": {
    "colab": {
     "base_uri": "https://localhost:8080/"
    },
    "id": "dojUQg_0TUSC",
    "outputId": "6f0d6fe2-dfec-4cff-83a3-67417b83528a"
   },
   "outputs": [
    {
     "name": "stdout",
     "output_type": "stream",
     "text": [
      "Drive already mounted at /content/drive; to attempt to forcibly remount, call drive.mount(\"/content/drive\", force_remount=True).\n"
     ]
    }
   ],
   "source": [
    "# ## 1) Mount Google Drive\n",
    "\n",
    "from google.colab import drive\n",
    "drive.mount('/content/drive')"
   ]
  },
  {
   "cell_type": "code",
   "execution_count": null,
   "metadata": {
    "id": "aSrT44UqTWXg"
   },
   "outputs": [],
   "source": [
    "# ## 2) Install / update libraries (Sentence‑Transformers)\n",
    "\n",
    "!pip install -q -U \"transformers>=4.51.0\" \"sentence-transformers>=2.7.0\" accelerate bitsandbytes tqdm"
   ]
  },
  {
   "cell_type": "code",
   "execution_count": null,
   "metadata": {
    "colab": {
     "base_uri": "https://localhost:8080/"
    },
    "id": "rBtPw-EFTZIw",
    "outputId": "82c3aeb2-7e8f-420b-c010-93c3ba70c508"
   },
   "outputs": [
    {
     "name": "stdout",
     "output_type": "stream",
     "text": [
      "Entities loaded: 557,825\n"
     ]
    }
   ],
   "source": [
    "# ## 3) Load entity list\n",
    "\n",
    "import os, math, numpy as np\n",
    "from tqdm import tqdm\n",
    "\n",
    "ENT_PATH = \"/content/drive/MyDrive/HotpotQA_snapshot/unique_entities.txt\"\n",
    "assert os.path.exists(ENT_PATH), ENT_PATH\n",
    "with open(ENT_PATH, 'r', encoding='utf-8') as f:\n",
    "    entities = [line.rstrip('\\n') for line in f if line.strip()]\n",
    "N = len(entities)\n",
    "print(f\"Entities loaded: {N:,}\")"
   ]
  },
  {
   "cell_type": "code",
   "execution_count": null,
   "metadata": {
    "colab": {
     "base_uri": "https://localhost:8080/",
     "height": 341,
     "referenced_widgets": [
      "b09d4589ba784345800066fe62795f4a",
      "463c1b332a1b4c11a10fc92285a4135b",
      "bd682af75c624959902973cb0631c1e8",
      "c4a1131e5a1b4dbcada1338e2398884f",
      "2ad9230e1b3546b1bbffd73b86a4e307",
      "3abe37fab536473d8def43ed6c5e7532",
      "9abbb57063204dd39cebb8c02af8a20d",
      "6de78e5fbe334eb5a09288e9968490d4",
      "7d4996e8b33a4bc092b201fc580d0fd6",
      "5f2a9e5a505648e99049b192b8f20365",
      "f34f7c16cd9d45baa1de6173e7cfc295"
     ]
    },
    "id": "_G2j1qbETa3P",
    "outputId": "d8780582-c014-43fe-a360-ece9e332e0f7"
   },
   "outputs": [
    {
     "name": "stdout",
     "output_type": "stream",
     "text": [
      "Loading SentenceTransformer model …\n"
     ]
    },
    {
     "name": "stderr",
     "output_type": "stream",
     "text": [
      "/usr/local/lib/python3.11/dist-packages/huggingface_hub/utils/_auth.py:94: UserWarning: \n",
      "The secret `HF_TOKEN` does not exist in your Colab secrets.\n",
      "To authenticate with the Hugging Face Hub, create a token in your settings tab (https://huggingface.co/settings/tokens), set it as secret in your Google Colab and restart your session.\n",
      "You will be able to reuse this secret in all of your notebooks.\n",
      "Please note that authentication is recommended but still optional to access public models or datasets.\n",
      "  warnings.warn(\n"
     ]
    },
    {
     "data": {
      "application/vnd.jupyter.widget-view+json": {
       "model_id": "b09d4589ba784345800066fe62795f4a",
       "version_major": 2,
       "version_minor": 0
      },
      "text/plain": [
       "Loading checkpoint shards:   0%|          | 0/4 [00:00<?, ?it/s]"
      ]
     },
     "metadata": {},
     "output_type": "display_data"
    },
    {
     "name": "stdout",
     "output_type": "stream",
     "text": [
      "Model default embed dim: 4096\n"
     ]
    },
    {
     "data": {
      "text/plain": [
       "SentenceTransformer(\n",
       "  (0): Transformer({'max_seq_length': 40960, 'do_lower_case': False, 'architecture': 'Qwen3Model'})\n",
       "  (1): Pooling({'word_embedding_dimension': 4096, 'pooling_mode_cls_token': False, 'pooling_mode_mean_tokens': False, 'pooling_mode_max_tokens': False, 'pooling_mode_mean_sqrt_len_tokens': False, 'pooling_mode_weightedmean_tokens': False, 'pooling_mode_lasttoken': True, 'include_prompt': True})\n",
       "  (2): Normalize()\n",
       ")"
      ]
     },
     "execution_count": 4,
     "metadata": {},
     "output_type": "execute_result"
    }
   ],
   "source": [
    "# 4) Load Qwen3‑Embedding‑8B (no flash‑attn)\n",
    "from sentence_transformers import SentenceTransformer\n",
    "\n",
    "MODEL_ID  = \"Qwen/Qwen3-Embedding-8B\"\n",
    "\n",
    "\n",
    "print(\"Loading SentenceTransformer model …\")\n",
    "model = SentenceTransformer(\n",
    "    MODEL_ID,\n",
    "    model_kwargs={\"device_map\": \"auto\", \"torch_dtype\": \"auto\"},   # هیچ پارامتر اضافی\n",
    "    tokenizer_kwargs={\"padding_side\": \"left\"},\n",
    ")\n",
    "EMBED_DIM = model.get_sentence_embedding_dimension()\n",
    "BATCH_SIZE = 32\n",
    "print(\"Model default embed dim:\", model.get_sentence_embedding_dimension())  # باید 4096 نشان دهد\n",
    "model.eval()\n"
   ]
  },
  {
   "cell_type": "code",
   "execution_count": null,
   "metadata": {
    "colab": {
     "base_uri": "https://localhost:8080/"
    },
    "id": "V-1h5b_zTc7A",
    "outputId": "e2e46d3c-102b-44d7-8534-69275bebd69d"
   },
   "outputs": [
    {
     "name": "stdout",
     "output_type": "stream",
     "text": [
      "Memmap ↔ /content/drive/MyDrive/HotpotQA_snapshot/unique_entities_emb_4096.fp16.memmap | shape (557825, 4096)\n"
     ]
    }
   ],
   "source": [
    "# ## 5) Allocate float32 memmap (≈ 4.7 GB)\n",
    "\n",
    "EMB_PATH = \"/content/drive/MyDrive/HotpotQA_snapshot/unique_entities_emb_4096.fp16.memmap\"\n",
    "emb_mem = np.memmap(EMB_PATH, mode=\"w+\", dtype=\"float16\", shape=(N, EMBED_DIM))\n",
    "print(f\"Memmap ↔ {EMB_PATH} | shape {(N, EMBED_DIM)}\")"
   ]
  },
  {
   "cell_type": "code",
   "execution_count": null,
   "metadata": {
    "colab": {
     "base_uri": "https://localhost:8080/"
    },
    "id": "hjHlafYG70Lq",
    "outputId": "259cab9d-c03f-434c-ab6a-41efd0d19d06"
   },
   "outputs": [
    {
     "name": "stderr",
     "output_type": "stream",
     "text": [
      "Embedding: 100%|██████████| 17433/17433 [1:00:49<00:00,  4.78it/s]"
     ]
    },
    {
     "name": "stdout",
     "output_type": "stream",
     "text": [
      "✔️  All embeddings stored.\n"
     ]
    },
    {
     "name": "stderr",
     "output_type": "stream",
     "text": [
      "\n"
     ]
    }
   ],
   "source": [
    "import torch\n",
    "\n",
    "for start in tqdm(range(0, N, BATCH_SIZE), total=math.ceil(N / BATCH_SIZE), desc=\"Embedding\"):\n",
    "    batch = entities[start : start + BATCH_SIZE]\n",
    "\n",
    "    emb = model.encode(\n",
    "        batch,\n",
    "        batch_size=BATCH_SIZE,\n",
    "        convert_to_numpy=True,       \n",
    "        normalize_embeddings=True,\n",
    "        show_progress_bar=False,\n",
    "    ).astype(\"float16\")\n",
    "\n",
    "    emb_mem[start : start + len(batch)] = emb\n",
    "\n",
    "    if (start // BATCH_SIZE) % 50 == 0:\n",
    "        emb_mem.flush()\n",
    "        torch.cuda.empty_cache()     \n",
    "        torch.cuda.ipc_collect()\n",
    "\n",
    "emb_mem.flush()\n",
    "del emb_mem\n",
    "print(\"✔️  All embeddings stored.\")"
   ]
  },
  {
   "cell_type": "code",
   "execution_count": null,
   "metadata": {
    "colab": {
     "base_uri": "https://localhost:8080/"
    },
    "id": "zRKPZJPSTgnE",
    "outputId": "d5a3b1cc-e819-44a9-f667-ba213efeef7d"
   },
   "outputs": [
    {
     "name": "stdout",
     "output_type": "stream",
     "text": [
      "Order saved → /content/drive/MyDrive/HotpotQA_snapshot/unique_entities_ordered.txt\n"
     ]
    }
   ],
   "source": [
    "# ## 7) Save entity order for index mapping\n",
    "\n",
    "ORDER_PATH = \"/content/drive/MyDrive/HotpotQA_snapshot/unique_entities_ordered.txt\"\n",
    "with open(ORDER_PATH, 'w', encoding='utf-8') as f:\n",
    "    f.writelines(ent + '\\n' for ent in entities)\n",
    "print(\"Order saved →\", ORDER_PATH)"
   ]
  },
  {
   "cell_type": "code",
   "execution_count": null,
   "metadata": {
    "colab": {
     "base_uri": "https://localhost:8080/"
    },
    "id": "MjR4gv-LTiT5",
    "outputId": "0b76bfe3-a8b6-4738-d46d-0a46087a4605"
   },
   "outputs": [
    {
     "name": "stdout",
     "output_type": "stream",
     "text": [
      "First entity: $253,510\n",
      "Sample dims: [ 0.02026   0.002975 -0.010864 -0.01373   0.009766]\n",
      "Norm ≈ 0.998\n"
     ]
    }
   ],
   "source": [
    "# ## 8) Sanity‑check a random row\n",
    "\n",
    "emb_check = np.memmap(EMB_PATH, mode='r', dtype='float16', shape=(N, EMBED_DIM))\n",
    "print(\"First entity:\", entities[1000])\n",
    "print(\"Sample dims:\", emb_check[1000, :5])\n",
    "print(\"Norm ≈\", np.linalg.norm(emb_check[1000]))"
   ]
  }
 ],
 "metadata": {
  "accelerator": "GPU",
  "colab": {
   "gpuType": "L4",
   "machine_shape": "hm",
   "provenance": []
  },
  "kernelspec": {
   "display_name": "Python 3 (ipykernel)",
   "language": "python",
   "name": "python3"
  },
  "language_info": {
   "codemirror_mode": {
    "name": "ipython",
    "version": 3
   },
   "file_extension": ".py",
   "mimetype": "text/x-python",
   "name": "python",
   "nbconvert_exporter": "python",
   "pygments_lexer": "ipython3",
   "version": "3.11.5"
  },
  "widgets": {
   "application/vnd.jupyter.widget-state+json": {
    "2ad9230e1b3546b1bbffd73b86a4e307": {
     "model_module": "@jupyter-widgets/base",
     "model_module_version": "1.2.0",
     "model_name": "LayoutModel",
     "state": {
      "_model_module": "@jupyter-widgets/base",
      "_model_module_version": "1.2.0",
      "_model_name": "LayoutModel",
      "_view_count": null,
      "_view_module": "@jupyter-widgets/base",
      "_view_module_version": "1.2.0",
      "_view_name": "LayoutView",
      "align_content": null,
      "align_items": null,
      "align_self": null,
      "border": null,
      "bottom": null,
      "display": null,
      "flex": null,
      "flex_flow": null,
      "grid_area": null,
      "grid_auto_columns": null,
      "grid_auto_flow": null,
      "grid_auto_rows": null,
      "grid_column": null,
      "grid_gap": null,
      "grid_row": null,
      "grid_template_areas": null,
      "grid_template_columns": null,
      "grid_template_rows": null,
      "height": null,
      "justify_content": null,
      "justify_items": null,
      "left": null,
      "margin": null,
      "max_height": null,
      "max_width": null,
      "min_height": null,
      "min_width": null,
      "object_fit": null,
      "object_position": null,
      "order": null,
      "overflow": null,
      "overflow_x": null,
      "overflow_y": null,
      "padding": null,
      "right": null,
      "top": null,
      "visibility": null,
      "width": null
     }
    },
    "3abe37fab536473d8def43ed6c5e7532": {
     "model_module": "@jupyter-widgets/base",
     "model_module_version": "1.2.0",
     "model_name": "LayoutModel",
     "state": {
      "_model_module": "@jupyter-widgets/base",
      "_model_module_version": "1.2.0",
      "_model_name": "LayoutModel",
      "_view_count": null,
      "_view_module": "@jupyter-widgets/base",
      "_view_module_version": "1.2.0",
      "_view_name": "LayoutView",
      "align_content": null,
      "align_items": null,
      "align_self": null,
      "border": null,
      "bottom": null,
      "display": null,
      "flex": null,
      "flex_flow": null,
      "grid_area": null,
      "grid_auto_columns": null,
      "grid_auto_flow": null,
      "grid_auto_rows": null,
      "grid_column": null,
      "grid_gap": null,
      "grid_row": null,
      "grid_template_areas": null,
      "grid_template_columns": null,
      "grid_template_rows": null,
      "height": null,
      "justify_content": null,
      "justify_items": null,
      "left": null,
      "margin": null,
      "max_height": null,
      "max_width": null,
      "min_height": null,
      "min_width": null,
      "object_fit": null,
      "object_position": null,
      "order": null,
      "overflow": null,
      "overflow_x": null,
      "overflow_y": null,
      "padding": null,
      "right": null,
      "top": null,
      "visibility": null,
      "width": null
     }
    },
    "463c1b332a1b4c11a10fc92285a4135b": {
     "model_module": "@jupyter-widgets/controls",
     "model_module_version": "1.5.0",
     "model_name": "HTMLModel",
     "state": {
      "_dom_classes": [],
      "_model_module": "@jupyter-widgets/controls",
      "_model_module_version": "1.5.0",
      "_model_name": "HTMLModel",
      "_view_count": null,
      "_view_module": "@jupyter-widgets/controls",
      "_view_module_version": "1.5.0",
      "_view_name": "HTMLView",
      "description": "",
      "description_tooltip": null,
      "layout": "IPY_MODEL_3abe37fab536473d8def43ed6c5e7532",
      "placeholder": "​",
      "style": "IPY_MODEL_9abbb57063204dd39cebb8c02af8a20d",
      "value": "Loading checkpoint shards: 100%"
     }
    },
    "5f2a9e5a505648e99049b192b8f20365": {
     "model_module": "@jupyter-widgets/base",
     "model_module_version": "1.2.0",
     "model_name": "LayoutModel",
     "state": {
      "_model_module": "@jupyter-widgets/base",
      "_model_module_version": "1.2.0",
      "_model_name": "LayoutModel",
      "_view_count": null,
      "_view_module": "@jupyter-widgets/base",
      "_view_module_version": "1.2.0",
      "_view_name": "LayoutView",
      "align_content": null,
      "align_items": null,
      "align_self": null,
      "border": null,
      "bottom": null,
      "display": null,
      "flex": null,
      "flex_flow": null,
      "grid_area": null,
      "grid_auto_columns": null,
      "grid_auto_flow": null,
      "grid_auto_rows": null,
      "grid_column": null,
      "grid_gap": null,
      "grid_row": null,
      "grid_template_areas": null,
      "grid_template_columns": null,
      "grid_template_rows": null,
      "height": null,
      "justify_content": null,
      "justify_items": null,
      "left": null,
      "margin": null,
      "max_height": null,
      "max_width": null,
      "min_height": null,
      "min_width": null,
      "object_fit": null,
      "object_position": null,
      "order": null,
      "overflow": null,
      "overflow_x": null,
      "overflow_y": null,
      "padding": null,
      "right": null,
      "top": null,
      "visibility": null,
      "width": null
     }
    },
    "6de78e5fbe334eb5a09288e9968490d4": {
     "model_module": "@jupyter-widgets/base",
     "model_module_version": "1.2.0",
     "model_name": "LayoutModel",
     "state": {
      "_model_module": "@jupyter-widgets/base",
      "_model_module_version": "1.2.0",
      "_model_name": "LayoutModel",
      "_view_count": null,
      "_view_module": "@jupyter-widgets/base",
      "_view_module_version": "1.2.0",
      "_view_name": "LayoutView",
      "align_content": null,
      "align_items": null,
      "align_self": null,
      "border": null,
      "bottom": null,
      "display": null,
      "flex": null,
      "flex_flow": null,
      "grid_area": null,
      "grid_auto_columns": null,
      "grid_auto_flow": null,
      "grid_auto_rows": null,
      "grid_column": null,
      "grid_gap": null,
      "grid_row": null,
      "grid_template_areas": null,
      "grid_template_columns": null,
      "grid_template_rows": null,
      "height": null,
      "justify_content": null,
      "justify_items": null,
      "left": null,
      "margin": null,
      "max_height": null,
      "max_width": null,
      "min_height": null,
      "min_width": null,
      "object_fit": null,
      "object_position": null,
      "order": null,
      "overflow": null,
      "overflow_x": null,
      "overflow_y": null,
      "padding": null,
      "right": null,
      "top": null,
      "visibility": null,
      "width": null
     }
    },
    "7d4996e8b33a4bc092b201fc580d0fd6": {
     "model_module": "@jupyter-widgets/controls",
     "model_module_version": "1.5.0",
     "model_name": "ProgressStyleModel",
     "state": {
      "_model_module": "@jupyter-widgets/controls",
      "_model_module_version": "1.5.0",
      "_model_name": "ProgressStyleModel",
      "_view_count": null,
      "_view_module": "@jupyter-widgets/base",
      "_view_module_version": "1.2.0",
      "_view_name": "StyleView",
      "bar_color": null,
      "description_width": ""
     }
    },
    "9abbb57063204dd39cebb8c02af8a20d": {
     "model_module": "@jupyter-widgets/controls",
     "model_module_version": "1.5.0",
     "model_name": "DescriptionStyleModel",
     "state": {
      "_model_module": "@jupyter-widgets/controls",
      "_model_module_version": "1.5.0",
      "_model_name": "DescriptionStyleModel",
      "_view_count": null,
      "_view_module": "@jupyter-widgets/base",
      "_view_module_version": "1.2.0",
      "_view_name": "StyleView",
      "description_width": ""
     }
    },
    "b09d4589ba784345800066fe62795f4a": {
     "model_module": "@jupyter-widgets/controls",
     "model_module_version": "1.5.0",
     "model_name": "HBoxModel",
     "state": {
      "_dom_classes": [],
      "_model_module": "@jupyter-widgets/controls",
      "_model_module_version": "1.5.0",
      "_model_name": "HBoxModel",
      "_view_count": null,
      "_view_module": "@jupyter-widgets/controls",
      "_view_module_version": "1.5.0",
      "_view_name": "HBoxView",
      "box_style": "",
      "children": [
       "IPY_MODEL_463c1b332a1b4c11a10fc92285a4135b",
       "IPY_MODEL_bd682af75c624959902973cb0631c1e8",
       "IPY_MODEL_c4a1131e5a1b4dbcada1338e2398884f"
      ],
      "layout": "IPY_MODEL_2ad9230e1b3546b1bbffd73b86a4e307"
     }
    },
    "bd682af75c624959902973cb0631c1e8": {
     "model_module": "@jupyter-widgets/controls",
     "model_module_version": "1.5.0",
     "model_name": "FloatProgressModel",
     "state": {
      "_dom_classes": [],
      "_model_module": "@jupyter-widgets/controls",
      "_model_module_version": "1.5.0",
      "_model_name": "FloatProgressModel",
      "_view_count": null,
      "_view_module": "@jupyter-widgets/controls",
      "_view_module_version": "1.5.0",
      "_view_name": "ProgressView",
      "bar_style": "success",
      "description": "",
      "description_tooltip": null,
      "layout": "IPY_MODEL_6de78e5fbe334eb5a09288e9968490d4",
      "max": 4,
      "min": 0,
      "orientation": "horizontal",
      "style": "IPY_MODEL_7d4996e8b33a4bc092b201fc580d0fd6",
      "value": 4
     }
    },
    "c4a1131e5a1b4dbcada1338e2398884f": {
     "model_module": "@jupyter-widgets/controls",
     "model_module_version": "1.5.0",
     "model_name": "HTMLModel",
     "state": {
      "_dom_classes": [],
      "_model_module": "@jupyter-widgets/controls",
      "_model_module_version": "1.5.0",
      "_model_name": "HTMLModel",
      "_view_count": null,
      "_view_module": "@jupyter-widgets/controls",
      "_view_module_version": "1.5.0",
      "_view_name": "HTMLView",
      "description": "",
      "description_tooltip": null,
      "layout": "IPY_MODEL_5f2a9e5a505648e99049b192b8f20365",
      "placeholder": "​",
      "style": "IPY_MODEL_f34f7c16cd9d45baa1de6173e7cfc295",
      "value": " 4/4 [01:00&lt;00:00, 13.38s/it]"
     }
    },
    "f34f7c16cd9d45baa1de6173e7cfc295": {
     "model_module": "@jupyter-widgets/controls",
     "model_module_version": "1.5.0",
     "model_name": "DescriptionStyleModel",
     "state": {
      "_model_module": "@jupyter-widgets/controls",
      "_model_module_version": "1.5.0",
      "_model_name": "DescriptionStyleModel",
      "_view_count": null,
      "_view_module": "@jupyter-widgets/base",
      "_view_module_version": "1.2.0",
      "_view_name": "StyleView",
      "description_width": ""
     }
    }
   }
  }
 },
 "nbformat": 4,
 "nbformat_minor": 4
}
