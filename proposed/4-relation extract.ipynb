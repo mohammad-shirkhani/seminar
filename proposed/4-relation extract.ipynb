{
 "cells": [
  {
   "cell_type": "code",
   "execution_count": 1,
   "metadata": {
    "colab": {
     "base_uri": "https://localhost:8080/"
    },
    "id": "o_hIvTpOL8jE",
    "outputId": "ba6feab8-a10c-476a-e819-36785c9a8580"
   },
   "outputs": [
    {
     "name": "stdout",
     "output_type": "stream",
     "text": [
      "Drive already mounted at /content/drive; to attempt to forcibly remount, call drive.mount(\"/content/drive\", force_remount=True).\n"
     ]
    }
   ],
   "source": [
    "# ■ 1) Mount Google Drive\n",
    "from google.colab import drive\n",
    "drive.mount('/content/drive')\n"
   ]
  },
  {
   "cell_type": "code",
   "execution_count": 2,
   "metadata": {
    "id": "RlobD6YrMvaG"
   },
   "outputs": [],
   "source": [
    "# ■ 2) Install / import tqdm for progress‑bars\n",
    "try:\n",
    "    from tqdm import tqdm\n",
    "except ImportError:     \n",
    "    !pip install -q tqdm\n",
    "    from tqdm import tqdm\n"
   ]
  },
  {
   "cell_type": "code",
   "execution_count": 3,
   "metadata": {
    "colab": {
     "base_uri": "https://localhost:8080/"
    },
    "id": "UrseH63zMv_l",
    "outputId": "ee564843-2462-4371-9994-5ba96eb7b7ce"
   },
   "outputs": [
    {
     "name": "stdout",
     "output_type": "stream",
     "text": [
      "Loading file: /content/drive/MyDrive/HotpotQA_snapshot/all_docs_chunks_entities_relations_all.json\n",
      "Loaded 66,237 chunks.\n"
     ]
    }
   ],
   "source": [
    "# ■ 3) Load merged JSON file\n",
    "import json, re, unicodedata\n",
    "from pprint import pprint\n",
    "\n",
    "FILE_PATH = '/content/drive/MyDrive/HotpotQA_snapshot/all_docs_chunks_entities_relations_all.json'\n",
    "print(f'Loading file: {FILE_PATH}')\n",
    "with open(FILE_PATH, 'r', encoding='utf-8') as f:\n",
    "    data = json.load(f)\n",
    "print(f\"Loaded {len(data):,} chunks.\")\n"
   ]
  },
  {
   "cell_type": "code",
   "execution_count": 4,
   "metadata": {
    "id": "tWWjG4ArM4Iw"
   },
   "outputs": [],
   "source": [
    "# ■ 4) Utility ▸ clean & normalise relation surface‑forms\n",
    "QUOTE_CHARS = '\"\\'“”‘’`´‛❝❞❮❯⹂〝〞«»‚„”″′˝'\n",
    "PUNCT_TAIL  = ',.;:!?☞\\u2014\\u2013-'\n",
    "\n",
    "def strip_outer_quotes(txt: str) -> str:\n",
    "    \"\"\"Remove matching outer quote characters.\"\"\"\n",
    "    if len(txt) >= 2 and txt[0] in QUOTE_CHARS and txt[-1] in QUOTE_CHARS:\n",
    "        return txt[1:-1]\n",
    "    return txt\n",
    "\n",
    "_WS_RE = re.compile(r'\\s+', re.UNICODE)     # هر توالی whitespace\n",
    "\n",
    "def clean_relation(raw: str) -> str:\n",
    "    s = raw.strip()\n",
    "\n",
    "    while s and s[0] in QUOTE_CHARS:\n",
    "        s = s[1:]\n",
    "    while s and s[-1] in QUOTE_CHARS:\n",
    "        s = s[:-1]\n",
    "    s = strip_outer_quotes(s)\n",
    "\n",
    "    s = s.strip(PUNCT_TAIL + ' ')\n",
    "\n",
    "    s = unicodedata.normalize('NFKC', s).casefold()\n",
    "\n",
    "    s = _WS_RE.sub(' ', s)\n",
    "\n",
    "    s = s.replace(' ', '_')\n",
    "\n",
    "    return s.strip()"
   ]
  },
  {
   "cell_type": "code",
   "execution_count": 5,
   "metadata": {
    "colab": {
     "base_uri": "https://localhost:8080/"
    },
    "id": "_xsxJ-LVNAuA",
    "outputId": "2650409b-ceab-4dd5-9dce-6f0f8d9aa840"
   },
   "outputs": [
    {
     "name": "stderr",
     "output_type": "stream",
     "text": [
      "Processing chunks: 100%|██████████| 66237/66237 [00:04<00:00, 14215.82it/s]"
     ]
    },
    {
     "name": "stdout",
     "output_type": "stream",
     "text": [
      "Done. Skipped / ill‑formed relations: 2,066\n",
      "Unique relations collected: 139,253\n"
     ]
    },
    {
     "name": "stderr",
     "output_type": "stream",
     "text": [
      "\n"
     ]
    }
   ],
   "source": [
    "# ■ 5) Parse relations → collect unique, cleaned relation labels\n",
    "unique_relations = set()\n",
    "invalid_relations = 0\n",
    "\n",
    "for chunk in tqdm(data, desc='Processing chunks'):\n",
    "    for rel in chunk.get('relations', []):\n",
    "        if not isinstance(rel, str):\n",
    "            continue\n",
    "        arrow_cnt = rel.count('->')\n",
    "        if arrow_cnt < 2:\n",
    "            invalid_relations += 1\n",
    "            continue\n",
    "\n",
    "        parts = [p.strip() for p in rel.split('->')]\n",
    "        # throw away empty segments (happens if \" -> \" with spaces)\n",
    "        parts = [p for p in parts if p]\n",
    "\n",
    "        if len(parts) < 3:                \n",
    "            middle = parts[1]\n",
    "        else:                              \n",
    "            middle = '_'.join(parts[1:-1])\n",
    "\n",
    "        rel_clean = clean_relation(middle)\n",
    "        if rel_clean:\n",
    "            unique_relations.add(rel_clean)\n",
    "\n",
    "print(f\"Done. Skipped / ill‑formed relations: {invalid_relations:,}\")\n",
    "print(f\"Unique relations collected: {len(unique_relations):,}\")\n"
   ]
  },
  {
   "cell_type": "code",
   "execution_count": 6,
   "metadata": {
    "colab": {
     "base_uri": "https://localhost:8080/"
    },
    "id": "_xGLaNlSNUXZ",
    "outputId": "3fa5e0a1-508d-4740-d039-608238484ec5"
   },
   "outputs": [
    {
     "name": "stdout",
     "output_type": "stream",
     "text": [
      "Total relation strings (raw, incl. duplicates): 1,235,425\n",
      "Unique relation labels (after cleaning):        139,253\n"
     ]
    }
   ],
   "source": [
    "# ■ 5‑bis) Count *all* relation strings\n",
    "\n",
    "total_relations = sum(len(chunk.get('relations', [])) for chunk in data)\n",
    "print(f\"Total relation strings (raw, incl. duplicates): {total_relations:,}\")\n",
    "print(f\"Unique relation labels (after cleaning):        {len(unique_relations):,}\")\n"
   ]
  },
  {
   "cell_type": "code",
   "execution_count": 7,
   "metadata": {
    "colab": {
     "base_uri": "https://localhost:8080/"
    },
    "id": "DUbyqlKHNoX1",
    "outputId": "43cb2c10-1951-4ad4-f23c-db4264a609e2"
   },
   "outputs": [
    {
     "name": "stdout",
     "output_type": "stream",
     "text": [
      "Relation list saved → /content/drive/MyDrive/HotpotQA_snapshot/unique_relations.txt\n"
     ]
    }
   ],
   "source": [
    "# ■ 6) Save the clean relation list for downstream embedding\n",
    "OUTPUT_PATH = '/content/drive/MyDrive/HotpotQA_snapshot/unique_relations.txt'\n",
    "with open(OUTPUT_PATH, 'w', encoding='utf-8') as f:\n",
    "    for r in sorted(unique_relations):\n",
    "        f.write(r + '\\n')\n",
    "print(f\"Relation list saved → {OUTPUT_PATH}\")\n"
   ]
  },
  {
   "cell_type": "code",
   "execution_count": 8,
   "metadata": {
    "colab": {
     "base_uri": "https://localhost:8080/"
    },
    "id": "GbNAMDlTNzd9",
    "outputId": "573194db-1a85-4d0f-e276-e879abedca77"
   },
   "outputs": [
    {
     "name": "stdout",
     "output_type": "stream",
     "text": [
      "First 100 relations (alphabetically):\n",
      "['&_maintenance',\n",
      " '(1939)',\n",
      " '(date)',\n",
      " '(no_explicit_relation)',\n",
      " '(no_relation)',\n",
      " '(pauley,_j.)',\n",
      " '(s.d.n.y',\n",
      " '+_twitter_trending_140_chart',\n",
      " '/',\n",
      " '0-8',\n",
      " '0.6%',\n",
      " '1,000th_performance_on',\n",
      " '1.0%',\n",
      " '1.5%',\n",
      " '1.8%',\n",
      " '10',\n",
      " '1000s',\n",
      " '100_miles',\n",
      " '10th_duke_of',\n",
      " '10th_edition',\n",
      " '10th_largest_city_in_world',\n",
      " '10th_largest_in',\n",
      " '11:00_p.m',\n",
      " '11_of_14',\n",
      " '11th_playoff_meeting',\n",
      " '12',\n",
      " '12.4%',\n",
      " '12th_attempt',\n",
      " '12th_overall_to_be_selected',\n",
      " '13%',\n",
      " '13.1%',\n",
      " '13th_time_in',\n",
      " '14%',\n",
      " '14th',\n",
      " '150th_meeting',\n",
      " '155',\n",
      " '15_april_1909',\n",
      " '15th_highest-grossing_concert_tour_of_all_time',\n",
      " '160_km',\n",
      " '160_l',\n",
      " '16th',\n",
      " '17%',\n",
      " '17-yard_line',\n",
      " '18%',\n",
      " '180-gram_black_vinyl_reissue',\n",
      " '1854',\n",
      " '1881',\n",
      " '18_times',\n",
      " '18th',\n",
      " '18th_top_goalscorer_in',\n",
      " '1902',\n",
      " '1904',\n",
      " '1906',\n",
      " '1918_work',\n",
      " '1940_romance',\n",
      " '1956',\n",
      " '197_refugees',\n",
      " '1999',\n",
      " '1st',\n",
      " '1st_baron_montagu',\n",
      " '1st_battalion,_9th_cavalry',\n",
      " '1st_duchess_of',\n",
      " '1st_duke_of',\n",
      " '2%',\n",
      " '2.4',\n",
      " '2.h3',\n",
      " '20',\n",
      " '20.7%',\n",
      " '2000–2007',\n",
      " '2003',\n",
      " '2007–08',\n",
      " '2009',\n",
      " '2012',\n",
      " '2013',\n",
      " '2014',\n",
      " '2016_season_games',\n",
      " '2019',\n",
      " '2019_pan_american_games.the',\n",
      " '2020',\n",
      " '2021',\n",
      " '2021_film_adaptation_of',\n",
      " '2022–23_\"city\"_uniform',\n",
      " '21st_army_group',\n",
      " '21st_international_congress_postponed_to',\n",
      " '21st_straight_win',\n",
      " '22_mi',\n",
      " '22_years_later',\n",
      " '23_july',\n",
      " '23rd_united_states_secretary',\n",
      " '25_and_older',\n",
      " '25_best_tv_shows',\n",
      " '25_years_ago',\n",
      " '25th_anniversary_edition_cover_featured',\n",
      " '25th_anniversary_edition_included_introduction_by',\n",
      " '25th_anniversary_edition_issued_by',\n",
      " '26th_term',\n",
      " '27_of_34',\n",
      " '27_years',\n",
      " '27_years_after',\n",
      " '28th']\n"
     ]
    }
   ],
   "source": [
    "# ■ 7) Quick sanity‑check\n",
    "print(\"First 100 relations (alphabetically):\")\n",
    "pprint(list(sorted(unique_relations))[:100])\n"
   ]
  },
  {
   "cell_type": "code",
   "execution_count": 10,
   "metadata": {
    "colab": {
     "base_uri": "https://localhost:8080/"
    },
    "id": "Hqtil6prN4jc",
    "outputId": "cd0a9891-0d46-4149-ff52-2d80e651124e"
   },
   "outputs": [
    {
     "name": "stdout",
     "output_type": "stream",
     "text": [
      "['wanted_to_be',\n",
      " 'wanted_to_be_a_combination_of',\n",
      " 'wanted_to_be_buried_at',\n",
      " 'wanted_to_be_buried_in',\n",
      " 'wanted_to_be_called',\n",
      " 'wanted_to_be_discussed_in',\n",
      " 'wanted_to_be_endowed_with',\n",
      " 'wanted_to_be_flown_to',\n",
      " 'wanted_to_be_girlfriend_of',\n",
      " 'wanted_to_be_grounded_by',\n",
      " 'wanted_to_be_like',\n",
      " 'wanted_to_be_on',\n",
      " 'wanted_to_be_portrayed',\n",
      " 'wanted_to_be_remembered_as',\n",
      " 'wanted_to_be_rid_of',\n",
      " 'wanted_to_be_separated_from',\n",
      " 'wanted_to_be_traded_to',\n",
      " 'wanted_to_be_with',\n",
      " 'wanted_to_beat',\n",
      " 'wanted_to_become',\n",
      " 'wanted_to_book',\n",
      " 'wanted_to_break_down',\n",
      " 'wanted_to_break_off',\n",
      " 'wanted_to_bring',\n",
      " 'wanted_to_bring_back',\n",
      " 'wanted_to_bring_in',\n",
      " 'wanted_to_build',\n",
      " 'wanted_to_buy',\n",
      " 'wanted_to_cancel',\n",
      " 'wanted_to_capitalize_on',\n",
      " 'wanted_to_capitan',\n",
      " 'wanted_to_capture',\n",
      " 'wanted_to_carve_out',\n",
      " 'wanted_to_cast',\n",
      " 'wanted_to_challenge',\n",
      " 'wanted_to_chase_away',\n",
      " 'wanted_to_co-manage',\n",
      " 'wanted_to_collaborate',\n",
      " 'wanted_to_combine',\n",
      " 'wanted_to_complete',\n",
      " 'wanted_to_concentrate_on',\n",
      " 'wanted_to_confront',\n",
      " 'wanted_to_connect',\n",
      " 'wanted_to_consolidate',\n",
      " 'wanted_to_construct',\n",
      " 'wanted_to_continue',\n",
      " 'wanted_to_continue_at',\n",
      " 'wanted_to_continue_leaning_on',\n",
      " 'wanted_to_continue_talks_with',\n",
      " 'wanted_to_continue_war',\n",
      " 'wanted_to_continue_working_with',\n",
      " 'wanted_to_convert',\n",
      " 'wanted_to_convince',\n",
      " 'wanted_to_create',\n",
      " 'wanted_to_dance_with',\n",
      " 'wanted_to_debut',\n",
      " 'wanted_to_define',\n",
      " 'wanted_to_delay',\n",
      " 'wanted_to_demonstrate',\n",
      " 'wanted_to_destroy',\n",
      " 'wanted_to_develop',\n",
      " 'wanted_to_die_among',\n",
      " 'wanted_to_diminish',\n",
      " 'wanted_to_direct',\n",
      " 'wanted_to_discourage',\n",
      " 'wanted_to_dismiss',\n",
      " 'wanted_to_distinguish',\n",
      " 'wanted_to_do',\n",
      " 'wanted_to_do_something_new_with',\n",
      " 'wanted_to_draw',\n",
      " 'wanted_to_drive',\n",
      " 'wanted_to_drive_up',\n",
      " 'wanted_to_drive_with',\n",
      " 'wanted_to_earn',\n",
      " 'wanted_to_eliminate',\n",
      " 'wanted_to_emulate',\n",
      " 'wanted_to_encourage',\n",
      " 'wanted_to_end',\n",
      " 'wanted_to_ensure',\n",
      " 'wanted_to_enter',\n",
      " 'wanted_to_entertain',\n",
      " 'wanted_to_escape',\n",
      " 'wanted_to_establish',\n",
      " 'wanted_to_evangelize',\n",
      " 'wanted_to_expand',\n",
      " 'wanted_to_expand_coverage_for',\n",
      " 'wanted_to_expel',\n",
      " 'wanted_to_explore',\n",
      " 'wanted_to_extend',\n",
      " 'wanted_to_feature',\n",
      " 'wanted_to_fight',\n",
      " 'wanted_to_film_in',\n",
      " 'wanted_to_find',\n",
      " 'wanted_to_find_something',\n",
      " 'wanted_to_fire',\n",
      " 'wanted_to_flesh_out',\n",
      " 'wanted_to_focus_on',\n",
      " 'wanted_to_form',\n",
      " 'wanted_to_form_band_with',\n",
      " 'wanted_to_form_cover_band']\n"
     ]
    }
   ],
   "source": [
    "pprint(list(sorted(unique_relations))[130000:130100])\n"
   ]
  }
 ],
 "metadata": {
  "colab": {
   "provenance": []
  },
  "kernelspec": {
   "display_name": "Python 3 (ipykernel)",
   "language": "python",
   "name": "python3"
  },
  "language_info": {
   "codemirror_mode": {
    "name": "ipython",
    "version": 3
   },
   "file_extension": ".py",
   "mimetype": "text/x-python",
   "name": "python",
   "nbconvert_exporter": "python",
   "pygments_lexer": "ipython3",
   "version": "3.11.5"
  }
 },
 "nbformat": 4,
 "nbformat_minor": 4
}
